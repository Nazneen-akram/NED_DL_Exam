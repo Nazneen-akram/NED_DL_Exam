{
  "nbformat": 4,
  "nbformat_minor": 0,
  "metadata": {
    "colab": {
      "provenance": [],
      "gpuType": "T4",
      "include_colab_link": true
    },
    "kernelspec": {
      "name": "python3",
      "display_name": "Python 3"
    },
    "language_info": {
      "name": "python"
    },
    "accelerator": "GPU"
  },
  "cells": [
    {
      "cell_type": "markdown",
      "metadata": {
        "id": "view-in-github",
        "colab_type": "text"
      },
      "source": [
        "<a href=\"https://colab.research.google.com/github/Nazneen-akram/NED_DL_Exam/blob/main/Task__5_streamlit_NazneenAKRAM.ipynb\" target=\"_parent\"><img src=\"https://colab.research.google.com/assets/colab-badge.svg\" alt=\"Open In Colab\"/></a>"
      ]
    },
    {
      "cell_type": "markdown",
      "source": [
        "## Task5:\n",
        "#### Create Streamlit AI application\n",
        "[15 Marks]\n",
        "**Chose any one model you like from Task 1-4**  \n",
        "\n",
        "**<span style=\"color:red\">Instructions | Steps Required</span>**\n",
        "1. Load Model in streamlit Application.\n",
        "2. Get User Input (boxes / windows as required by selected model)\n",
        "3. Predict output using loaded model.\n",
        "4. Show Output (text / class / any other results from your selected model)\n",
        "5. The output must show your name * CNIC in the last line.\n",
        "6. Take a screenshot (with visible Name/CNIC # as per step 5) showing output and upload alongwith your work in Google Class Room."
      ],
      "metadata": {
        "id": "_c1F_TSxPiN3"
      }
    },
    {
      "cell_type": "code",
      "execution_count": null,
      "metadata": {
        "id": "Uc3KcSrtPbbE"
      },
      "outputs": [],
      "source": [
        "import streamlit as st\n",
        "import pandas as pd\n",
        "import numpy as np\n",
        "from sklearn.preprocessing import MinMaxScaler\n",
        "from tensorflow.keras.models import load_model\n"
      ]
    },
    {
      "cell_type": "code",
      "source": [
        "\n",
        "# Load the pre-trained model\n",
        "model = load_model('bitcoin_price_prediction_model.h5')\n",
        "\n",
        "# Load the Bitcoin dataset\n",
        "data = pd.read_csv('BitCoin.csv')\n",
        "\n",
        "# Function to preprocess user input for prediction\n",
        "def preprocess_input(user_input, scaler):\n",
        "    # Assume user input is in the same format as the training data\n",
        "    user_input = np.array(user_input).reshape(1, -1)\n",
        "    user_input_scaled = scaler.transform(user_input)\n",
        "    user_input_reshaped = np.reshape(user_input_scaled, (1, user_input_scaled.shape[0], 1))\n",
        "    return user_input_reshaped\n",
        "\n",
        "# Function to make predictions\n",
        "def make_prediction(model, user_input):\n",
        "    prediction = model.predict(user_input)\n",
        "    return prediction\n",
        "\n",
        "# Streamlit UI\n",
        "st.title('Bitcoin Price Prediction App')\n",
        "\n",
        "# User input section\n",
        "st.sidebar.header('User Input')\n",
        "user_input = {}\n",
        "\n",
        "# Example input fields (replace with actual features in your dataset)\n",
        "user_input['Feature_1'] = st.sidebar.slider('Feature 1', min_value=0.0, max_value=1.0, value=0.5)\n",
        "user_input['Feature_2'] = st.sidebar.slider('Feature 2', min_value=0.0, max_value=1.0, value=0.5)\n",
        "\n",
        "# Preprocess user input\n",
        "scaler = MinMaxScaler(feature_range=(0, 1))  # Use the same scaler used during training\n",
        "user_input_scaled = preprocess_input(list(user_input.values()), scaler)\n",
        "\n",
        "# Make predictions\n",
        "prediction = make_prediction(model, user_input_scaled)\n",
        "\n",
        "# Output section\n",
        "st.header('Prediction')\n",
        "st.write(f'The predicted Bitcoin price is: {prediction[0][0]}')\n",
        "\n",
        "# Display your name and CNIC\n",
        "st.sidebar.header('Output Details')\n",
        "st.sidebar.write('Name: Nazneen AKram')\n",
        "st.sidebar.write('CNIC: 4210145447712')\n"
      ],
      "metadata": {
        "id": "XWsvLEwYPi1T"
      },
      "execution_count": null,
      "outputs": []
    }
  ]
}